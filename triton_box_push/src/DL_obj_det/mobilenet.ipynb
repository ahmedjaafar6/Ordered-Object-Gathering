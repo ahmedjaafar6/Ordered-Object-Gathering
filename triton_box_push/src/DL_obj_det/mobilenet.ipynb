{
  "nbformat": 4,
  "nbformat_minor": 0,
  "metadata": {
    "colab": {
      "provenance": []
    },
    "kernelspec": {
      "name": "python3",
      "display_name": "Python 3"
    },
    "language_info": {
      "name": "python"
    },
    "gpuClass": "standard"
  },
  "cells": [
    {
      "cell_type": "code",
      "source": [
        "%%capture\n",
        "!pip install transformers\n",
        "!pip install datasets"
      ],
      "metadata": {
        "id": "osD51-QGnYuh"
      },
      "execution_count": 2,
      "outputs": []
    },
    {
      "cell_type": "code",
      "execution_count": 15,
      "metadata": {
        "id": "w2xcasEEnLit"
      },
      "outputs": [],
      "source": [
        "from transformers import AutoImageProcessor, MobileNetV2ForImageClassification\n",
        "import torch\n",
        "from datasets import load_dataset\n",
        "import time\n",
        "from PIL import Image"
      ]
    },
    {
      "cell_type": "code",
      "source": [
        "# dataset = load_dataset(\"huggingface/cats-image\")\n",
        "# image = dataset[\"test\"][\"image\"][0]\n",
        "# print(type(image))\n",
        "\n",
        "path = \"water_bottle.jpg\"\n",
        "image = Image.open(path)\n",
        "# print(type(image))\n",
        "\n",
        "image_processor = AutoImageProcessor.from_pretrained(\"google/mobilenet_v2_1.0_224\")\n",
        "model = MobileNetV2ForImageClassification.from_pretrained(\"google/mobilenet_v2_1.0_224\")"
      ],
      "metadata": {
        "id": "3kmEeN8LnPVp"
      },
      "execution_count": 17,
      "outputs": []
    },
    {
      "cell_type": "code",
      "source": [
        "inputs = image_processor(image, return_tensors=\"pt\")"
      ],
      "metadata": {
        "id": "UrGTUpIkn2HN"
      },
      "execution_count": 18,
      "outputs": []
    },
    {
      "cell_type": "code",
      "source": [
        "with torch.no_grad():\n",
        "    logits = model(**inputs).logits"
      ],
      "metadata": {
        "id": "iIb3TD0in18V"
      },
      "execution_count": 19,
      "outputs": []
    },
    {
      "cell_type": "code",
      "source": [
        "# model predicts one of the 1000 ImageNet classes\n",
        "predicted_label = logits.argmax(-1).item()\n",
        "print(model.config.id2label[predicted_label])"
      ],
      "metadata": {
        "colab": {
          "base_uri": "https://localhost:8080/"
        },
        "id": "l1VC3KQFnxkt",
        "outputId": "eaceabd3-80b0-44d1-9948-e23210d90714"
      },
      "execution_count": 20,
      "outputs": [
        {
          "output_type": "stream",
          "name": "stdout",
          "text": [
            "water bottle\n"
          ]
        }
      ]
    },
    {
      "cell_type": "markdown",
      "source": [
        "break"
      ],
      "metadata": {
        "id": "WKc47kKesVFH"
      }
    },
    {
      "cell_type": "code",
      "source": [
        "import torch\n",
        "import torchvision\n",
        "from torchvision.models.mobilenetv3 import mobilenet_v3_small\n",
        "\n",
        "# Load the pre-trained MobileNetV3 Small model\n",
        "model = mobilenet_v3_small(pretrained=True)\n",
        "\n",
        "# Set the model to evaluation mode\n",
        "model.eval()"
      ],
      "metadata": {
        "id": "yspw_jURsUzF"
      },
      "execution_count": null,
      "outputs": []
    },
    {
      "cell_type": "code",
      "source": [
        "import torchvision.transforms as transforms\n",
        "preprocess = transforms.Compose([\n",
        "    transforms.Resize((224, 224)),  # Resize the image to the desired size\n",
        "    transforms.ToTensor()\n",
        "])\n",
        "\n",
        "# Assuming 'image' is your image in PIL format\n",
        "image_tensor = preprocess(image)\n"
      ],
      "metadata": {
        "id": "03g1jonrtn4d"
      },
      "execution_count": 35,
      "outputs": []
    },
    {
      "cell_type": "code",
      "source": [
        "with torch.no_grad():\n",
        "    outputs = model(torch.unsqueeze(image_tensor, 0))\n",
        "# Retrieve the predicted label and other information\n",
        "predicted_label = torch.argmax(outputs, dim=1)\n",
        "print('Predicted Label:', predicted_label.item())"
      ],
      "metadata": {
        "colab": {
          "base_uri": "https://localhost:8080/"
        },
        "id": "rCp2hhlLtqE5",
        "outputId": "4e74ddae-1c3f-4480-86d5-10ed15cd0763"
      },
      "execution_count": 40,
      "outputs": [
        {
          "output_type": "stream",
          "name": "stdout",
          "text": [
            "Predicted Label: 898\n"
          ]
        }
      ]
    },
    {
      "cell_type": "code",
      "source": [
        "\n",
        "\n",
        "# Process the bounding box coordinates and labels as needed\n",
        "# ..."
      ],
      "metadata": {
        "id": "w_R3QdS1ttEs"
      },
      "execution_count": null,
      "outputs": []
    },
    {
      "cell_type": "code",
      "source": [
        "\n",
        "# Print the bounding box coordinates and labels\n",
        "for box, label in zip(boxes, labels):\n",
        "    print('Bounding box:', box)\n",
        "    print('Label:', label)"
      ],
      "metadata": {
        "id": "1k2LXFlqtuzX"
      },
      "execution_count": null,
      "outputs": []
    }
  ]
}